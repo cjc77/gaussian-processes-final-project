{
 "cells": [
  {
   "cell_type": "code",
   "execution_count": 1,
   "metadata": {},
   "outputs": [],
   "source": [
    "import numpy as np\n",
    "import pandas as pd\n",
    "import sklearn.gaussian_process as gp\n",
    "from sklearn.ensemble import RandomForestClassifier\n",
    "from sklearn.model_selection import cross_validate\n",
    "from numpy.random import RandomState\n",
    "\n",
    "from util.defs import ParamType\n",
    "from util.util import random_x_sample\n",
    "from acquisition.acquisition_functions import ProbabilityOfImprovement, ExpectedImprovement\n",
    "from acquisition.acquisition_optimizers import RandomAcquisitionOpt, ConstrainedAcquisitionOpt\n",
    "from hp_optimizers.gpr_optimizer import GPROptimizer"
   ]
  },
  {
   "cell_type": "markdown",
   "metadata": {},
   "source": [
    "# Set random seed"
   ]
  },
  {
   "cell_type": "code",
   "execution_count": 2,
   "metadata": {},
   "outputs": [],
   "source": [
    "rand = RandomState(seed=12345)"
   ]
  },
  {
   "cell_type": "markdown",
   "metadata": {},
   "source": [
    "# Grab the dataset"
   ]
  },
  {
   "cell_type": "code",
   "execution_count": 3,
   "metadata": {},
   "outputs": [],
   "source": [
    "iris = \"../data/iris.csv\"\n",
    "df = pd.read_csv(iris)\n",
    "data = np.array(df.iloc[:, :5])\n",
    "rand.shuffle(data)\n",
    "X = data[:, :-1]\n",
    "y = data[:, -1]"
   ]
  },
  {
   "cell_type": "markdown",
   "metadata": {},
   "source": [
    "# Define: bounds for hyperparameters, parameter data types, objective function (lower is better)"
   ]
  },
  {
   "cell_type": "code",
   "execution_count": 4,
   "metadata": {},
   "outputs": [],
   "source": [
    "# x0 = n_estimators [10, 1000] -- int\n",
    "# x1 = max_depth [1, 5] -- int\n",
    "# x2 = min_samples_split [2, 10] -- int\n",
    "bounds = np.array([\n",
    "    [10, 1000],\n",
    "    [1, 5],\n",
    "    [2, 10]\n",
    "])\n",
    "\n",
    "p_types = [ParamType.Disc, ParamType.Disc, ParamType.Disc]\n",
    "\n",
    "def objective(x):\n",
    "    # x may be passed as a (1, p) array\n",
    "    if x.ndim > 1:\n",
    "        x = x[0]\n",
    "    # define model\n",
    "    model = RandomForestClassifier(n_estimators=int(x[0]),\n",
    "                                   max_depth=int(x[1]), \n",
    "                                   min_samples_split=int(x[2]), \n",
    "                                   n_jobs=-1)\n",
    "    # get 5-fold cross validation results\n",
    "    cv_res = cross_validate(model, X, y, cv=5)\n",
    "    # return 1 - acc\n",
    "    return 1 - cv_res[\"test_score\"].mean()"
   ]
  },
  {
   "cell_type": "markdown",
   "metadata": {},
   "source": [
    "# Define the Bayesian Optimizer"
   ]
  },
  {
   "cell_type": "code",
   "execution_count": 5,
   "metadata": {},
   "outputs": [],
   "source": [
    "kernel = gp.kernels.RBF()\n",
    "gpr = gp.GaussianProcessRegressor(kernel, \n",
    "                                  alpha=np.abs(rand.normal(scale=.01)),\n",
    "                                  n_restarts_optimizer=10, \n",
    "                                  random_state=rand)\n",
    "acquisition = ExpectedImprovement()\n",
    "# acquisition = ProbabilityOfImprovement()\n",
    "opt_acquisition = ConstrainedAcquisitionOpt(gpr, acquisition, rand)\n",
    "gpr_opt = GPROptimizer(gpr, opt_acquisition, objective, bounds, p_types, rand, initial_samples=3, fit=True)"
   ]
  },
  {
   "cell_type": "markdown",
   "metadata": {},
   "source": [
    "# Run the optimization"
   ]
  },
  {
   "cell_type": "code",
   "execution_count": 6,
   "metadata": {},
   "outputs": [
    {
     "name": "stdout",
     "output_type": "stream",
     "text": [
      "Optimization iteration 1\n",
      "Selected next parameter sample from acquisition optimizer: [252.   4.   8.]\n",
      "Objective value at sample: 0.04\n",
      "==============================================================\n",
      "\n",
      "Optimization iteration 2\n",
      "Selected next parameter sample from acquisition optimizer: [310.   3.   3.]\n",
      "Objective value at sample: 0.0467\n",
      "==============================================================\n",
      "\n",
      "Optimization iteration 3\n",
      "Selected next parameter sample from acquisition optimizer: [243.   2.   2.]\n",
      "Objective value at sample: 0.0467\n",
      "==============================================================\n",
      "\n",
      "Optimization iteration 4\n",
      "Selected next parameter sample from acquisition optimizer: [271.   4.   7.]\n",
      "Objective value at sample: 0.0333\n",
      "==============================================================\n",
      "\n",
      "Optimization iteration 5\n",
      "Selected next parameter sample from acquisition optimizer: [236.   4.   5.]\n",
      "Objective value at sample: 0.04\n",
      "==============================================================\n",
      "\n",
      "Optimization iteration 6\n",
      "Selected next parameter sample from acquisition optimizer: [246.   4.   7.]\n",
      "Objective value at sample: 0.0467\n",
      "==============================================================\n",
      "\n",
      "Optimization iteration 7\n",
      "Selected next parameter sample from acquisition optimizer: [322.   4.   9.]\n",
      "Objective value at sample: 0.0333\n",
      "==============================================================\n",
      "\n",
      "Optimization iteration 8\n",
      "Selected next parameter sample from acquisition optimizer: [344.   1.   4.]\n",
      "Objective value at sample: 0.06\n",
      "==============================================================\n",
      "\n",
      "Optimization iteration 9\n",
      "Selected next parameter sample from acquisition optimizer: [301.   4.   6.]\n",
      "Objective value at sample: 0.04\n",
      "==============================================================\n",
      "\n",
      "Optimization iteration 10\n",
      "Selected next parameter sample from acquisition optimizer: [282.   4.   5.]\n",
      "Objective value at sample: 0.0333\n",
      "==============================================================\n",
      "\n",
      "Optimization yielded: {'argmin': 6, 'minimizer': array([271.,   4.,   7.]), 'minimum': array([0.03333333])}\n"
     ]
    }
   ],
   "source": [
    "res = gpr_opt.optimize(10, thresh=0.03, verbose=True)"
   ]
  },
  {
   "cell_type": "code",
   "execution_count": 7,
   "metadata": {},
   "outputs": [
    {
     "data": {
      "text/plain": [
       "{'argmin': 6,\n",
       " 'minimizer': array([271.,   4.,   7.]),\n",
       " 'minimum': array([0.03333333])}"
      ]
     },
     "execution_count": 7,
     "metadata": {},
     "output_type": "execute_result"
    }
   ],
   "source": [
    "res"
   ]
  }
 ],
 "metadata": {
  "kernelspec": {
   "display_name": "Python 3",
   "language": "python",
   "name": "python3"
  },
  "language_info": {
   "codemirror_mode": {
    "name": "ipython",
    "version": 3
   },
   "file_extension": ".py",
   "mimetype": "text/x-python",
   "name": "python",
   "nbconvert_exporter": "python",
   "pygments_lexer": "ipython3",
   "version": "3.7.6"
  }
 },
 "nbformat": 4,
 "nbformat_minor": 4
}
