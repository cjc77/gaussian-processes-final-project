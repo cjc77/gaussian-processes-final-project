{
 "cells": [
  {
   "cell_type": "code",
   "execution_count": 1,
   "metadata": {},
   "outputs": [],
   "source": [
    "import numpy as np\n",
    "import pandas as pd\n",
    "import sklearn.gaussian_process as gp\n",
    "from sklearn.neural_network import MLPClassifier\n",
    "from sklearn.model_selection import cross_validate\n",
    "from sklearn.preprocessing import OneHotEncoder\n",
    "from numpy.random import RandomState\n",
    "\n",
    "from util.defs import ParamType\n",
    "from util.util import random_x_sample\n",
    "from acquisition.acquisition_functions import ProbabilityOfImprovement, ExpectedImprovement\n",
    "from acquisition.acquisition_optimizers import RandomAcquisitionOpt, ConstrainedAcquisitionOpt\n",
    "from hp_optimizers.hp_optimizer import GPROptimizer, RandomSearchOptimizer"
   ]
  },
  {
   "cell_type": "markdown",
   "metadata": {},
   "source": [
    "# Set random seed"
   ]
  },
  {
   "cell_type": "code",
   "execution_count": 2,
   "metadata": {},
   "outputs": [],
   "source": [
    "rand = RandomState(seed=123)"
   ]
  },
  {
   "cell_type": "markdown",
   "metadata": {},
   "source": [
    "# Grab the dataset"
   ]
  },
  {
   "cell_type": "code",
   "execution_count": 3,
   "metadata": {},
   "outputs": [],
   "source": [
    "income = \"../data/income.csv\"\n",
    "df = pd.read_csv(income)\n",
    "data = df.values\n",
    "rand.shuffle(data)\n",
    "X = data[:, :-1]\n",
    "y = data[:, -1]"
   ]
  },
  {
   "cell_type": "code",
   "execution_count": 4,
   "metadata": {},
   "outputs": [
    {
     "name": "stdout",
     "output_type": "stream",
     "text": [
      "(30162, 105)\n",
      "(30162, 105)\n"
     ]
    }
   ],
   "source": [
    "print(data.shape)\n",
    "print(df.shape)\n"
   ]
  },
  {
   "cell_type": "markdown",
   "metadata": {},
   "source": [
    "# Define: bounds for hyperparameters, parameter data types, objective function (lower is better)"
   ]
  },
  {
   "cell_type": "code",
   "execution_count": 5,
   "metadata": {},
   "outputs": [],
   "source": [
    "# x0 = num layers [>1]\n",
    "# x1 = learning rate init [0-1]\n",
    "# x2 = alpha [0-1]\n",
    "# x3 = beta1 [0-1]\n",
    "# x4 = beta2 [0-1]\n",
    "bounds = np.array([\n",
    "    [2, 100],\n",
    "    [0.001, 1 - 0.001],\n",
    "    [0, 0.5],\n",
    "    [0.8, 1 - 0.000001],\n",
    "    [0.8, 1 - 0.000001]\n",
    "])\n",
    "\n",
    "p_types = [ParamType.Disc, ParamType.Cont, ParamType.Cont, ParamType.Cont, ParamType.Cont]\n",
    "\n",
    "def objective(x):\n",
    "    # x may be passed as a (1, p) array\n",
    "    if x.ndim > 1:\n",
    "        x = x[0]\n",
    "    # define model\n",
    "    model = MLPClassifier(hidden_layer_sizes=int(x[0]),\n",
    "                          learning_rate_init=x[1],\n",
    "                          alpha=x[2],\n",
    "                          random_state=rand,\n",
    "                          max_iter = 100\n",
    "                         )\n",
    "\n",
    "    # get 5-fold cross validation results\n",
    "    cv_res = cross_validate(model, X, y, cv=5)\n",
    "    # return 1 - acc\n",
    "    return 1 - cv_res[\"test_score\"].mean()"
   ]
  },
  {
   "cell_type": "markdown",
   "metadata": {},
   "source": [
    "# Define the Bayesian Optimizer"
   ]
  },
  {
   "cell_type": "code",
   "execution_count": 6,
   "metadata": {},
   "outputs": [
    {
     "name": "stderr",
     "output_type": "stream",
     "text": [
      "/home/brendan/anaconda/envs/cs446-gp-env/lib/python3.7/site-packages/sklearn/neural_network/_multilayer_perceptron.py:571: ConvergenceWarning: Stochastic Optimizer: Maximum iterations (100) reached and the optimization hasn't converged yet.\n",
      "  % self.max_iter, ConvergenceWarning)\n",
      "/home/brendan/anaconda/envs/cs446-gp-env/lib/python3.7/site-packages/sklearn/neural_network/_multilayer_perceptron.py:571: ConvergenceWarning: Stochastic Optimizer: Maximum iterations (100) reached and the optimization hasn't converged yet.\n",
      "  % self.max_iter, ConvergenceWarning)\n",
      "/home/brendan/anaconda/envs/cs446-gp-env/lib/python3.7/site-packages/sklearn/neural_network/_multilayer_perceptron.py:571: ConvergenceWarning: Stochastic Optimizer: Maximum iterations (100) reached and the optimization hasn't converged yet.\n",
      "  % self.max_iter, ConvergenceWarning)\n",
      "/home/brendan/anaconda/envs/cs446-gp-env/lib/python3.7/site-packages/sklearn/neural_network/_multilayer_perceptron.py:571: ConvergenceWarning: Stochastic Optimizer: Maximum iterations (100) reached and the optimization hasn't converged yet.\n",
      "  % self.max_iter, ConvergenceWarning)\n",
      "/home/brendan/anaconda/envs/cs446-gp-env/lib/python3.7/site-packages/sklearn/neural_network/_multilayer_perceptron.py:571: ConvergenceWarning: Stochastic Optimizer: Maximum iterations (100) reached and the optimization hasn't converged yet.\n",
      "  % self.max_iter, ConvergenceWarning)\n",
      "/home/brendan/anaconda/envs/cs446-gp-env/lib/python3.7/site-packages/sklearn/neural_network/_multilayer_perceptron.py:571: ConvergenceWarning: Stochastic Optimizer: Maximum iterations (100) reached and the optimization hasn't converged yet.\n",
      "  % self.max_iter, ConvergenceWarning)\n",
      "/home/brendan/anaconda/envs/cs446-gp-env/lib/python3.7/site-packages/sklearn/neural_network/_multilayer_perceptron.py:571: ConvergenceWarning: Stochastic Optimizer: Maximum iterations (100) reached and the optimization hasn't converged yet.\n",
      "  % self.max_iter, ConvergenceWarning)\n",
      "/home/brendan/anaconda/envs/cs446-gp-env/lib/python3.7/site-packages/sklearn/neural_network/_multilayer_perceptron.py:571: ConvergenceWarning: Stochastic Optimizer: Maximum iterations (100) reached and the optimization hasn't converged yet.\n",
      "  % self.max_iter, ConvergenceWarning)\n",
      "/home/brendan/anaconda/envs/cs446-gp-env/lib/python3.7/site-packages/sklearn/neural_network/_multilayer_perceptron.py:571: ConvergenceWarning: Stochastic Optimizer: Maximum iterations (100) reached and the optimization hasn't converged yet.\n",
      "  % self.max_iter, ConvergenceWarning)\n"
     ]
    }
   ],
   "source": [
    "kernel = gp.kernels.RBF()\n",
    "gpr = gp.GaussianProcessRegressor(kernel,\n",
    "                                  alpha=1,\n",
    "                                  #alpha=np.abs(rand.normal(scale=.1)),\n",
    "                                  #alpha=np.abs(rand.normal(scale=.01)),\n",
    "                                  n_restarts_optimizer=15, \n",
    "                                  random_state=rand)\n",
    "acquisition = ExpectedImprovement()\n",
    "# acquisition = ProbabilityOfImprovement()\n",
    "opt_acquisition = ConstrainedAcquisitionOpt(gpr, acquisition, rand)\n",
    "gpr_opt = GPROptimizer(gpr, opt_acquisition, objective, bounds, p_types, rand, initial_samples=5, fit=True)"
   ]
  },
  {
   "cell_type": "markdown",
   "metadata": {},
   "source": [
    "# Run the optimization"
   ]
  },
  {
   "cell_type": "code",
   "execution_count": 7,
   "metadata": {},
   "outputs": [
    {
     "name": "stdout",
     "output_type": "stream",
     "text": [
      "Optimization iteration 1\n",
      "Selected next parameter sample from acquisition optimizer: [52.          0.0652796   0.08261837  0.85587945  0.82254461]\n",
      "Objective value at sample: 0.2324\n",
      "==============================================================\n",
      "\n",
      "Optimization iteration 2\n",
      "Selected next parameter sample from acquisition optimizer: [41.          0.8265282   0.35557237  0.8995825   0.90319067]\n",
      "Objective value at sample: 0.2489\n",
      "==============================================================\n",
      "\n",
      "Optimization iteration 3\n",
      "Selected next parameter sample from acquisition optimizer: [58.          0.68900178  0.40606549  0.87973998  0.93512953]\n",
      "Objective value at sample: 0.2489\n",
      "==============================================================\n",
      "\n",
      "Optimization iteration 4\n",
      "Selected next parameter sample from acquisition optimizer: [55.          0.82733082  0.3106979   0.82060693  0.92032097]\n"
     ]
    },
    {
     "name": "stderr",
     "output_type": "stream",
     "text": [
      "/home/brendan/anaconda/envs/cs446-gp-env/lib/python3.7/site-packages/sklearn/neural_network/_multilayer_perceptron.py:571: ConvergenceWarning: Stochastic Optimizer: Maximum iterations (100) reached and the optimization hasn't converged yet.\n",
      "  % self.max_iter, ConvergenceWarning)\n",
      "/home/brendan/anaconda/envs/cs446-gp-env/lib/python3.7/site-packages/sklearn/neural_network/_multilayer_perceptron.py:571: ConvergenceWarning: Stochastic Optimizer: Maximum iterations (100) reached and the optimization hasn't converged yet.\n",
      "  % self.max_iter, ConvergenceWarning)\n",
      "/home/brendan/anaconda/envs/cs446-gp-env/lib/python3.7/site-packages/sklearn/neural_network/_multilayer_perceptron.py:571: ConvergenceWarning: Stochastic Optimizer: Maximum iterations (100) reached and the optimization hasn't converged yet.\n",
      "  % self.max_iter, ConvergenceWarning)\n"
     ]
    },
    {
     "name": "stdout",
     "output_type": "stream",
     "text": [
      "Objective value at sample: 0.2489\n",
      "==============================================================\n",
      "\n",
      "Optimization iteration 5\n",
      "Selected next parameter sample from acquisition optimizer: [45.          0.15182052  0.358009    0.81888255  0.9530352 ]\n"
     ]
    },
    {
     "name": "stderr",
     "output_type": "stream",
     "text": [
      "/home/brendan/anaconda/envs/cs446-gp-env/lib/python3.7/site-packages/sklearn/neural_network/_multilayer_perceptron.py:571: ConvergenceWarning: Stochastic Optimizer: Maximum iterations (100) reached and the optimization hasn't converged yet.\n",
      "  % self.max_iter, ConvergenceWarning)\n",
      "/home/brendan/anaconda/envs/cs446-gp-env/lib/python3.7/site-packages/sklearn/neural_network/_multilayer_perceptron.py:571: ConvergenceWarning: Stochastic Optimizer: Maximum iterations (100) reached and the optimization hasn't converged yet.\n",
      "  % self.max_iter, ConvergenceWarning)\n"
     ]
    },
    {
     "name": "stdout",
     "output_type": "stream",
     "text": [
      "Objective value at sample: 0.2488\n",
      "==============================================================\n",
      "\n",
      "Optimization iteration 6\n",
      "Selected next parameter sample from acquisition optimizer: [49.          0.51419324  0.20609344  0.83052969  0.85087248]\n",
      "Objective value at sample: 0.2489\n",
      "==============================================================\n",
      "\n",
      "Optimization iteration 7\n",
      "Selected next parameter sample from acquisition optimizer: [44.          0.30167059  0.10386044  0.96746831  0.95148817]\n",
      "Objective value at sample: 0.2481\n",
      "==============================================================\n",
      "\n",
      "Optimization iteration 8\n",
      "Selected next parameter sample from acquisition optimizer: [34.          0.18805364  0.0699982   0.95518401  0.87488658]\n"
     ]
    },
    {
     "name": "stderr",
     "output_type": "stream",
     "text": [
      "/home/brendan/anaconda/envs/cs446-gp-env/lib/python3.7/site-packages/sklearn/neural_network/_multilayer_perceptron.py:571: ConvergenceWarning: Stochastic Optimizer: Maximum iterations (100) reached and the optimization hasn't converged yet.\n",
      "  % self.max_iter, ConvergenceWarning)\n",
      "/home/brendan/anaconda/envs/cs446-gp-env/lib/python3.7/site-packages/sklearn/neural_network/_multilayer_perceptron.py:571: ConvergenceWarning: Stochastic Optimizer: Maximum iterations (100) reached and the optimization hasn't converged yet.\n",
      "  % self.max_iter, ConvergenceWarning)\n",
      "/home/brendan/anaconda/envs/cs446-gp-env/lib/python3.7/site-packages/sklearn/neural_network/_multilayer_perceptron.py:571: ConvergenceWarning: Stochastic Optimizer: Maximum iterations (100) reached and the optimization hasn't converged yet.\n",
      "  % self.max_iter, ConvergenceWarning)\n"
     ]
    },
    {
     "name": "stdout",
     "output_type": "stream",
     "text": [
      "Objective value at sample: 0.2489\n",
      "==============================================================\n",
      "\n",
      "Optimization iteration 9\n",
      "Selected next parameter sample from acquisition optimizer: [45.          0.89169781  0.25672661  0.87439245  0.97038304]\n"
     ]
    },
    {
     "name": "stderr",
     "output_type": "stream",
     "text": [
      "/home/brendan/anaconda/envs/cs446-gp-env/lib/python3.7/site-packages/sklearn/neural_network/_multilayer_perceptron.py:571: ConvergenceWarning: Stochastic Optimizer: Maximum iterations (100) reached and the optimization hasn't converged yet.\n",
      "  % self.max_iter, ConvergenceWarning)\n",
      "/home/brendan/anaconda/envs/cs446-gp-env/lib/python3.7/site-packages/sklearn/neural_network/_multilayer_perceptron.py:571: ConvergenceWarning: Stochastic Optimizer: Maximum iterations (100) reached and the optimization hasn't converged yet.\n",
      "  % self.max_iter, ConvergenceWarning)\n",
      "/home/brendan/anaconda/envs/cs446-gp-env/lib/python3.7/site-packages/sklearn/neural_network/_multilayer_perceptron.py:571: ConvergenceWarning: Stochastic Optimizer: Maximum iterations (100) reached and the optimization hasn't converged yet.\n",
      "  % self.max_iter, ConvergenceWarning)\n"
     ]
    },
    {
     "name": "stdout",
     "output_type": "stream",
     "text": [
      "Objective value at sample: 0.2489\n",
      "==============================================================\n",
      "\n",
      "Optimization iteration 10\n",
      "Selected next parameter sample from acquisition optimizer: [34.          0.86705386  0.21066185  0.88127797  0.8816396 ]\n"
     ]
    },
    {
     "name": "stderr",
     "output_type": "stream",
     "text": [
      "/home/brendan/anaconda/envs/cs446-gp-env/lib/python3.7/site-packages/sklearn/neural_network/_multilayer_perceptron.py:571: ConvergenceWarning: Stochastic Optimizer: Maximum iterations (100) reached and the optimization hasn't converged yet.\n",
      "  % self.max_iter, ConvergenceWarning)\n",
      "/home/brendan/anaconda/envs/cs446-gp-env/lib/python3.7/site-packages/sklearn/neural_network/_multilayer_perceptron.py:571: ConvergenceWarning: Stochastic Optimizer: Maximum iterations (100) reached and the optimization hasn't converged yet.\n",
      "  % self.max_iter, ConvergenceWarning)\n",
      "/home/brendan/anaconda/envs/cs446-gp-env/lib/python3.7/site-packages/sklearn/neural_network/_multilayer_perceptron.py:571: ConvergenceWarning: Stochastic Optimizer: Maximum iterations (100) reached and the optimization hasn't converged yet.\n",
      "  % self.max_iter, ConvergenceWarning)\n"
     ]
    },
    {
     "name": "stdout",
     "output_type": "stream",
     "text": [
      "Objective value at sample: 0.2489\n",
      "==============================================================\n",
      "\n",
      "Optimization yielded: {'argmin': 0, 'minimizer': array([2.00000000e+01, 1.05154652e-02, 1.97165282e-01, 8.07757167e-01,\n",
      "       8.23545815e-01]), 'minimum': array([0.20051745])}\n",
      "[[2.00000000e+01 1.05154652e-02 1.97165282e-01 8.07757167e-01\n",
      "  8.23545815e-01]\n",
      " [4.90000000e+01 9.33537776e-02 4.46793769e-01 9.45403253e-01\n",
      "  8.68260928e-01]\n",
      " [2.30000000e+01 6.03212030e-01 8.21767003e-02 9.99371451e-01\n",
      "  8.62532700e-01]\n",
      " [1.70000000e+01 1.60908439e-01 3.66487224e-01 9.42870086e-01\n",
      "  9.86418765e-01]\n",
      " [8.80000000e+01 4.06138809e-02 1.96274547e-01 8.49808951e-01\n",
      "  8.36057863e-01]\n",
      " [5.20000000e+01 6.52795981e-02 8.26183689e-02 8.55879453e-01\n",
      "  8.22544612e-01]\n",
      " [4.10000000e+01 8.26528197e-01 3.55572366e-01 8.99582496e-01\n",
      "  9.03190668e-01]\n",
      " [5.80000000e+01 6.89001780e-01 4.06065489e-01 8.79739980e-01\n",
      "  9.35129529e-01]\n",
      " [5.50000000e+01 8.27330820e-01 3.10697899e-01 8.20606931e-01\n",
      "  9.20320967e-01]\n",
      " [4.50000000e+01 1.51820522e-01 3.58009001e-01 8.18882549e-01\n",
      "  9.53035201e-01]\n",
      " [4.90000000e+01 5.14193235e-01 2.06093438e-01 8.30529694e-01\n",
      "  8.50872480e-01]\n",
      " [4.40000000e+01 3.01670587e-01 1.03860436e-01 9.67468305e-01\n",
      "  9.51488168e-01]\n",
      " [3.40000000e+01 1.88053640e-01 6.99981981e-02 9.55184005e-01\n",
      "  8.74886584e-01]\n",
      " [4.50000000e+01 8.91697808e-01 2.56726608e-01 8.74392450e-01\n",
      "  9.70383042e-01]\n",
      " [3.40000000e+01 8.67053862e-01 2.10661849e-01 8.81277967e-01\n",
      "  8.81639602e-01]]\n",
      "[[0.20051745]\n",
      " [0.24782835]\n",
      " [0.24892248]\n",
      " [0.24885618]\n",
      " [0.22780189]\n",
      " [0.23237768]\n",
      " [0.24892248]\n",
      " [0.24892248]\n",
      " [0.24892248]\n",
      " [0.24882301]\n",
      " [0.24892248]\n",
      " [0.24806047]\n",
      " [0.24892248]\n",
      " [0.24892248]\n",
      " [0.24892248]]\n"
     ]
    }
   ],
   "source": [
    "res1 = gpr_opt.optimize(10, thresh=0.03, verbose=True)\n",
    "print(gpr_opt.X)\n",
    "print(gpr_opt.y)"
   ]
  },
  {
   "cell_type": "code",
   "execution_count": 8,
   "metadata": {},
   "outputs": [
    {
     "data": {
      "text/plain": [
       "<matplotlib.collections.PathCollection at 0x7f8783377a10>"
      ]
     },
     "execution_count": 8,
     "metadata": {},
     "output_type": "execute_result"
    },
    {
     "data": {
      "image/png": "[encoded data removed]",
      "text/plain": [
       "<Figure size 432x288 with 1 Axes>"
      ]
     },
     "metadata": {
      "needs_background": "light"
     },
     "output_type": "display_data"
    }
   ],
   "source": [
    "import matplotlib.pyplot as plt\n",
    "plt.scatter(gpr_opt.y, gpr_opt.X[:,0])\n"
   ]
  },
  {
   "cell_type": "markdown",
   "metadata": {},
   "source": [
    "# Try Random Search for comparison"
   ]
  },
  {
   "cell_type": "code",
   "execution_count": null,
   "metadata": {},
   "outputs": [
    {
     "name": "stderr",
     "output_type": "stream",
     "text": [
      "/home/brendan/anaconda/envs/cs446-gp-env/lib/python3.7/site-packages/sklearn/neural_network/_multilayer_perceptron.py:571: ConvergenceWarning: Stochastic Optimizer: Maximum iterations (100) reached and the optimization hasn't converged yet.\n",
      "  % self.max_iter, ConvergenceWarning)\n",
      "/home/brendan/anaconda/envs/cs446-gp-env/lib/python3.7/site-packages/sklearn/neural_network/_multilayer_perceptron.py:571: ConvergenceWarning: Stochastic Optimizer: Maximum iterations (100) reached and the optimization hasn't converged yet.\n",
      "  % self.max_iter, ConvergenceWarning)\n",
      "/home/brendan/anaconda/envs/cs446-gp-env/lib/python3.7/site-packages/sklearn/neural_network/_multilayer_perceptron.py:571: ConvergenceWarning: Stochastic Optimizer: Maximum iterations (100) reached and the optimization hasn't converged yet.\n",
      "  % self.max_iter, ConvergenceWarning)\n",
      "/home/brendan/anaconda/envs/cs446-gp-env/lib/python3.7/site-packages/sklearn/neural_network/_multilayer_perceptron.py:571: ConvergenceWarning: Stochastic Optimizer: Maximum iterations (100) reached and the optimization hasn't converged yet.\n",
      "  % self.max_iter, ConvergenceWarning)\n",
      "/home/brendan/anaconda/envs/cs446-gp-env/lib/python3.7/site-packages/sklearn/neural_network/_multilayer_perceptron.py:571: ConvergenceWarning: Stochastic Optimizer: Maximum iterations (100) reached and the optimization hasn't converged yet.\n",
      "  % self.max_iter, ConvergenceWarning)\n",
      "/home/brendan/anaconda/envs/cs446-gp-env/lib/python3.7/site-packages/sklearn/neural_network/_multilayer_perceptron.py:571: ConvergenceWarning: Stochastic Optimizer: Maximum iterations (100) reached and the optimization hasn't converged yet.\n",
      "  % self.max_iter, ConvergenceWarning)\n",
      "/home/brendan/anaconda/envs/cs446-gp-env/lib/python3.7/site-packages/sklearn/neural_network/_multilayer_perceptron.py:571: ConvergenceWarning: Stochastic Optimizer: Maximum iterations (100) reached and the optimization hasn't converged yet.\n",
      "  % self.max_iter, ConvergenceWarning)\n",
      "/home/brendan/anaconda/envs/cs446-gp-env/lib/python3.7/site-packages/sklearn/neural_network/_multilayer_perceptron.py:571: ConvergenceWarning: Stochastic Optimizer: Maximum iterations (100) reached and the optimization hasn't converged yet.\n",
      "  % self.max_iter, ConvergenceWarning)\n"
     ]
    }
   ],
   "source": [
    "rand_opt = RandomSearchOptimizer(objective, bounds, p_types, rand, parallel=False)\n",
    "res2 = rand_opt.optimize(13, verbose=False)\n",
    "res2"
   ]
  },
  {
   "cell_type": "code",
   "execution_count": null,
   "metadata": {},
   "outputs": [],
   "source": []
  },
  {
   "cell_type": "code",
   "execution_count": null,
   "metadata": {},
   "outputs": [],
   "source": []
  }
 ],
 "metadata": {
  "kernelspec": {
   "display_name": "Python 3",
   "language": "python",
   "name": "python3"
  },
  "language_info": {
   "codemirror_mode": {
    "name": "ipython",
    "version": 3
   },
   "file_extension": ".py",
   "mimetype": "text/x-python",
   "name": "python",
   "nbconvert_exporter": "python",
   "pygments_lexer": "ipython3",
   "version": "3.7.6"
  }
 },
 "nbformat": 4,
 "nbformat_minor": 4
}
