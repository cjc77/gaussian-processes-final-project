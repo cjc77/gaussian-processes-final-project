{
 "cells": [
  {
   "cell_type": "code",
   "execution_count": 1,
   "metadata": {},
   "outputs": [],
   "source": [
    "import numpy as np\n",
    "import pandas as pd\n",
    "import sklearn.gaussian_process as gp\n",
    "from sklearn.neural_network import MLPClassifier\n",
    "from sklearn.model_selection import cross_validate\n",
    "from sklearn.preprocessing import OneHotEncoder\n",
    "from numpy.random import RandomState\n",
    "\n",
    "from util.defs import ParamType\n",
    "from util.util import random_x_sample\n",
    "from acquisition.acquisition_functions import ProbabilityOfImprovement, ExpectedImprovement\n",
    "from acquisition.acquisition_optimizers import RandomAcquisitionOpt, ConstrainedAcquisitionOpt\n",
    "from hp_optimizers.hp_optimizer import GPROptimizer, RandomSearchOptimizer"
   ]
  },
  {
   "cell_type": "markdown",
   "metadata": {},
   "source": [
    "# Set random seed"
   ]
  },
  {
   "cell_type": "code",
   "execution_count": 2,
   "metadata": {},
   "outputs": [],
   "source": [
    "rand = RandomState(seed=123)"
   ]
  },
  {
   "cell_type": "markdown",
   "metadata": {},
   "source": [
    "# Grab the dataset"
   ]
  },
  {
   "cell_type": "code",
   "execution_count": 3,
   "metadata": {},
   "outputs": [],
   "source": [
    "income = \"../data/income.csv\"\n",
    "df = pd.read_csv(income)\n",
    "data = df.values\n",
    "rand.shuffle(data)\n",
    "X = data[:, :-1]\n",
    "y = data[:, -1]"
   ]
  },
  {
   "cell_type": "code",
   "execution_count": 4,
   "metadata": {},
   "outputs": [
    {
     "name": "stdout",
     "output_type": "stream",
     "text": [
      "(30162, 105)\n",
      "(30162, 105)\n"
     ]
    }
   ],
   "source": [
    "print(data.shape)\n",
    "print(df.shape)\n"
   ]
  },
  {
   "cell_type": "markdown",
   "metadata": {},
   "source": [
    "# Define: bounds for hyperparameters, parameter data types, objective function (lower is better)"
   ]
  },
  {
   "cell_type": "code",
   "execution_count": 5,
   "metadata": {},
   "outputs": [],
   "source": [
    "# x0 = num layers [>1]\n",
    "# x1 = learning rate init [0-1]\n",
    "# x2 = alpha [0-1]\n",
    "# x3 = beta1 [0-1]\n",
    "# x4 = beta2 [0-1]\n",
    "bounds = np.array([\n",
    "    [2, 100],\n",
    "    [0.001, 1 - 0.001],\n",
    "    [0, 0.5],\n",
    "    [0.8, 1 - 0.000001],\n",
    "    [0.8, 1 - 0.000001]\n",
    "])\n",
    "\n",
    "p_types = [ParamType.Disc, ParamType.Cont, ParamType.Cont, ParamType.Cont, ParamType.Cont]\n",
    "\n",
    "def objective(x):\n",
    "    # x may be passed as a (1, p) array\n",
    "    if x.ndim > 1:\n",
    "        x = x[0]\n",
    "    # define model\n",
    "    model = MLPClassifier(hidden_layer_sizes=int(x[0]),\n",
    "                          learning_rate_init=x[1],\n",
    "                          alpha=x[2],\n",
    "                          random_state=rand,\n",
    "                          max_iter = 100\n",
    "                         )\n",
    "\n",
    "    # get 5-fold cross validation results\n",
    "    cv_res = cross_validate(model, X, y, cv=5)\n",
    "    # return 1 - acc\n",
    "    return 1 - cv_res[\"test_score\"].mean()"
   ]
  },
  {
   "cell_type": "markdown",
   "metadata": {},
   "source": [
    "# Define the Bayesian Optimizer"
   ]
  },
  {
   "cell_type": "code",
   "execution_count": 6,
   "metadata": {},
   "outputs": [
    {
     "name": "stderr",
     "output_type": "stream",
     "text": [
      "/home/brendan/anaconda/envs/cs446-gp-env/lib/python3.7/site-packages/sklearn/neural_network/_multilayer_perceptron.py:571: ConvergenceWarning: Stochastic Optimizer: Maximum iterations (100) reached and the optimization hasn't converged yet.\n",
      "  % self.max_iter, ConvergenceWarning)\n"
     ]
    }
   ],
   "source": [
    "kernel = gp.kernels.RBF()\n",
    "gpr = gp.GaussianProcessRegressor(kernel,\n",
    "                                  alpha=0.5,\n",
    "                                  #alpha=np.abs(rand.normal(scale=.1)),\n",
    "                                  #alpha=np.abs(rand.normal(scale=.01)),\n",
    "                                  n_restarts_optimizer=20, \n",
    "                                  random_state=rand)\n",
    "acquisition = ExpectedImprovement()\n",
    "# acquisition = ProbabilityOfImprovement()\n",
    "opt_acquisition = ConstrainedAcquisitionOpt(gpr, acquisition, rand)\n",
    "gpr_opt = GPROptimizer(gpr, opt_acquisition, objective, bounds, p_types, rand, initial_samples=3, fit=True)"
   ]
  },
  {
   "cell_type": "markdown",
   "metadata": {},
   "source": [
    "# Run the optimization"
   ]
  },
  {
   "cell_type": "code",
   "execution_count": 7,
   "metadata": {},
   "outputs": [
    {
     "name": "stdout",
     "output_type": "stream",
     "text": [
      "Optimization iteration 1\n",
      "Selected next parameter sample from acquisition optimizer: [26.          0.14016233  0.29287665  0.82115043  0.9340854 ]\n"
     ]
    },
    {
     "name": "stderr",
     "output_type": "stream",
     "text": [
      "/home/brendan/anaconda/envs/cs446-gp-env/lib/python3.7/site-packages/sklearn/neural_network/_multilayer_perceptron.py:571: ConvergenceWarning: Stochastic Optimizer: Maximum iterations (100) reached and the optimization hasn't converged yet.\n",
      "  % self.max_iter, ConvergenceWarning)\n",
      "/home/brendan/anaconda/envs/cs446-gp-env/lib/python3.7/site-packages/sklearn/neural_network/_multilayer_perceptron.py:571: ConvergenceWarning: Stochastic Optimizer: Maximum iterations (100) reached and the optimization hasn't converged yet.\n",
      "  % self.max_iter, ConvergenceWarning)\n"
     ]
    },
    {
     "name": "stdout",
     "output_type": "stream",
     "text": [
      "Objective value at sample: 0.2471\n",
      "==============================================================\n",
      "\n",
      "Optimization iteration 2\n",
      "Selected next parameter sample from acquisition optimizer: [23.          0.62945793  0.10939049  0.89335251  0.86275202]\n"
     ]
    },
    {
     "name": "stderr",
     "output_type": "stream",
     "text": [
      "/home/brendan/anaconda/envs/cs446-gp-env/lib/python3.7/site-packages/sklearn/neural_network/_multilayer_perceptron.py:571: ConvergenceWarning: Stochastic Optimizer: Maximum iterations (100) reached and the optimization hasn't converged yet.\n",
      "  % self.max_iter, ConvergenceWarning)\n"
     ]
    },
    {
     "name": "stdout",
     "output_type": "stream",
     "text": [
      "Objective value at sample: 0.2487\n",
      "==============================================================\n",
      "\n",
      "Optimization iteration 3\n",
      "Selected next parameter sample from acquisition optimizer: [24.          0.4547958   0.2064646   0.91088278  0.9835588 ]\n",
      "Objective value at sample: 0.2489\n",
      "==============================================================\n",
      "\n",
      "Optimization iteration 4\n",
      "Selected next parameter sample from acquisition optimizer: [29.          0.61217223  0.12032455  0.8317524   0.99721892]\n"
     ]
    },
    {
     "name": "stderr",
     "output_type": "stream",
     "text": [
      "/home/brendan/anaconda/envs/cs446-gp-env/lib/python3.7/site-packages/sklearn/neural_network/_multilayer_perceptron.py:571: ConvergenceWarning: Stochastic Optimizer: Maximum iterations (100) reached and the optimization hasn't converged yet.\n",
      "  % self.max_iter, ConvergenceWarning)\n",
      "/home/brendan/anaconda/envs/cs446-gp-env/lib/python3.7/site-packages/sklearn/neural_network/_multilayer_perceptron.py:571: ConvergenceWarning: Stochastic Optimizer: Maximum iterations (100) reached and the optimization hasn't converged yet.\n",
      "  % self.max_iter, ConvergenceWarning)\n",
      "/home/brendan/anaconda/envs/cs446-gp-env/lib/python3.7/site-packages/sklearn/neural_network/_multilayer_perceptron.py:571: ConvergenceWarning: Stochastic Optimizer: Maximum iterations (100) reached and the optimization hasn't converged yet.\n",
      "  % self.max_iter, ConvergenceWarning)\n",
      "/home/brendan/anaconda/envs/cs446-gp-env/lib/python3.7/site-packages/sklearn/neural_network/_multilayer_perceptron.py:571: ConvergenceWarning: Stochastic Optimizer: Maximum iterations (100) reached and the optimization hasn't converged yet.\n",
      "  % self.max_iter, ConvergenceWarning)\n",
      "/home/brendan/anaconda/envs/cs446-gp-env/lib/python3.7/site-packages/sklearn/neural_network/_multilayer_perceptron.py:571: ConvergenceWarning: Stochastic Optimizer: Maximum iterations (100) reached and the optimization hasn't converged yet.\n",
      "  % self.max_iter, ConvergenceWarning)\n"
     ]
    },
    {
     "name": "stdout",
     "output_type": "stream",
     "text": [
      "Objective value at sample: 0.2489\n",
      "==============================================================\n",
      "\n",
      "Optimization iteration 5\n",
      "Selected next parameter sample from acquisition optimizer: [16.          0.85923751  0.24380829  0.91452029  0.97493183]\n",
      "Objective value at sample: 0.2489\n",
      "==============================================================\n",
      "\n",
      "Optimization iteration 6\n",
      "Selected next parameter sample from acquisition optimizer: [23.          0.19329976  0.20375172  0.93839708  0.92205326]\n"
     ]
    },
    {
     "name": "stderr",
     "output_type": "stream",
     "text": [
      "/home/brendan/anaconda/envs/cs446-gp-env/lib/python3.7/site-packages/sklearn/neural_network/_multilayer_perceptron.py:571: ConvergenceWarning: Stochastic Optimizer: Maximum iterations (100) reached and the optimization hasn't converged yet.\n",
      "  % self.max_iter, ConvergenceWarning)\n",
      "/home/brendan/anaconda/envs/cs446-gp-env/lib/python3.7/site-packages/sklearn/neural_network/_multilayer_perceptron.py:571: ConvergenceWarning: Stochastic Optimizer: Maximum iterations (100) reached and the optimization hasn't converged yet.\n",
      "  % self.max_iter, ConvergenceWarning)\n"
     ]
    },
    {
     "name": "stdout",
     "output_type": "stream",
     "text": [
      "Objective value at sample: 0.2489\n",
      "==============================================================\n",
      "\n",
      "Optimization iteration 7\n",
      "Selected next parameter sample from acquisition optimizer: [20.          0.81742407  0.05372186  0.95640106  0.9583118 ]\n"
     ]
    },
    {
     "name": "stderr",
     "output_type": "stream",
     "text": [
      "/home/brendan/anaconda/envs/cs446-gp-env/lib/python3.7/site-packages/sklearn/neural_network/_multilayer_perceptron.py:571: ConvergenceWarning: Stochastic Optimizer: Maximum iterations (100) reached and the optimization hasn't converged yet.\n",
      "  % self.max_iter, ConvergenceWarning)\n"
     ]
    },
    {
     "name": "stdout",
     "output_type": "stream",
     "text": [
      "Objective value at sample: 0.2489\n",
      "==============================================================\n",
      "\n",
      "Optimization iteration 8\n",
      "Selected next parameter sample from acquisition optimizer: [32.          0.55678276  0.03797748  0.99483069  0.97671198]\n",
      "Objective value at sample: 0.2489\n",
      "==============================================================\n",
      "\n",
      "Optimization iteration 9\n",
      "Selected next parameter sample from acquisition optimizer: [30.          0.18728035  0.32635182  0.90963805  0.89780154]\n"
     ]
    },
    {
     "name": "stderr",
     "output_type": "stream",
     "text": [
      "/home/brendan/anaconda/envs/cs446-gp-env/lib/python3.7/site-packages/sklearn/neural_network/_multilayer_perceptron.py:571: ConvergenceWarning: Stochastic Optimizer: Maximum iterations (100) reached and the optimization hasn't converged yet.\n",
      "  % self.max_iter, ConvergenceWarning)\n",
      "/home/brendan/anaconda/envs/cs446-gp-env/lib/python3.7/site-packages/sklearn/neural_network/_multilayer_perceptron.py:571: ConvergenceWarning: Stochastic Optimizer: Maximum iterations (100) reached and the optimization hasn't converged yet.\n",
      "  % self.max_iter, ConvergenceWarning)\n"
     ]
    },
    {
     "name": "stdout",
     "output_type": "stream",
     "text": [
      "Objective value at sample: 0.2488\n",
      "==============================================================\n",
      "\n",
      "Optimization iteration 10\n",
      "Selected next parameter sample from acquisition optimizer: [2.90000000e+01 4.41245079e-02 4.15376094e-03 9.74720948e-01\n",
      " 9.23619423e-01]\n",
      "Objective value at sample: 0.2174\n",
      "==============================================================\n",
      "\n",
      "Optimization yielded: {'argmin': 0, 'minimizer': array([2.00000000e+01, 1.05154652e-02, 1.97165282e-01, 8.07757167e-01,\n",
      "       8.23545815e-01]), 'minimum': array([0.20237366])}\n",
      "[[2.00000000e+01 1.05154652e-02 1.97165282e-01 8.07757167e-01\n",
      "  8.23545815e-01]\n",
      " [4.90000000e+01 9.33537776e-02 4.46793769e-01 9.45403253e-01\n",
      "  8.68260928e-01]\n",
      " [2.30000000e+01 6.03212030e-01 8.21767003e-02 9.99371451e-01\n",
      "  8.62532700e-01]\n",
      " [2.60000000e+01 1.40162335e-01 2.92876645e-01 8.21150425e-01\n",
      "  9.34085405e-01]\n",
      " [2.30000000e+01 6.29457934e-01 1.09390491e-01 8.93352510e-01\n",
      "  8.62752019e-01]\n",
      " [2.40000000e+01 4.54795804e-01 2.06464599e-01 9.10882780e-01\n",
      "  9.83558797e-01]\n",
      " [2.90000000e+01 6.12172233e-01 1.20324547e-01 8.31752397e-01\n",
      "  9.97218924e-01]\n",
      " [1.60000000e+01 8.59237511e-01 2.43808287e-01 9.14520290e-01\n",
      "  9.74931829e-01]\n",
      " [2.30000000e+01 1.93299758e-01 2.03751716e-01 9.38397081e-01\n",
      "  9.22053256e-01]\n",
      " [2.00000000e+01 8.17424067e-01 5.37218581e-02 9.56401061e-01\n",
      "  9.58311803e-01]\n",
      " [3.20000000e+01 5.56782764e-01 3.79774807e-02 9.94830695e-01\n",
      "  9.76711975e-01]\n",
      " [3.00000000e+01 1.87280352e-01 3.26351819e-01 9.09638052e-01\n",
      "  8.97801538e-01]\n",
      " [2.90000000e+01 4.41245079e-02 4.15376094e-03 9.74720948e-01\n",
      "  9.23619423e-01]]\n",
      "[[0.20237366]\n",
      " [0.2422249 ]\n",
      " [0.24892248]\n",
      " [0.24709889]\n",
      " [0.24865723]\n",
      " [0.24892248]\n",
      " [0.24892248]\n",
      " [0.24892248]\n",
      " [0.24892248]\n",
      " [0.24892248]\n",
      " [0.24892248]\n",
      " [0.24882301]\n",
      " [0.21736028]]\n"
     ]
    }
   ],
   "source": [
    "res1 = gpr_opt.optimize(10, thresh=0.03, verbose=True)\n",
    "print(gpr_opt.X)\n",
    "print(gpr_opt.y)"
   ]
  },
  {
   "cell_type": "code",
   "execution_count": null,
   "metadata": {},
   "outputs": [],
   "source": [
    "res1"
   ]
  },
  {
   "cell_type": "markdown",
   "metadata": {},
   "source": [
    "# Try Random Search for comparison"
   ]
  },
  {
   "cell_type": "code",
   "execution_count": null,
   "metadata": {},
   "outputs": [],
   "source": [
    "rand_opt = RandomSearchOptimizer(objective, bounds, p_types, rand, parallel=False)\n",
    "res2 = rand_opt.optimize(13, verbose=False)\n",
    "res2"
   ]
  },
  {
   "cell_type": "code",
   "execution_count": null,
   "metadata": {},
   "outputs": [],
   "source": []
  },
  {
   "cell_type": "code",
   "execution_count": null,
   "metadata": {},
   "outputs": [],
   "source": []
  }
 ],
 "metadata": {
  "kernelspec": {
   "display_name": "Python 3",
   "language": "python",
   "name": "python3"
  },
  "language_info": {
   "codemirror_mode": {
    "name": "ipython",
    "version": 3
   },
   "file_extension": ".py",
   "mimetype": "text/x-python",
   "name": "python",
   "nbconvert_exporter": "python",
   "pygments_lexer": "ipython3",
   "version": "3.7.6"
  }
 },
 "nbformat": 4,
 "nbformat_minor": 4
}
