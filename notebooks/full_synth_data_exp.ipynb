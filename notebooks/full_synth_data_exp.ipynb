{
 "cells": [
  {
   "cell_type": "code",
   "execution_count": 1,
   "metadata": {},
   "outputs": [],
   "source": [
    "import numpy as np\n",
    "import seaborn as sns\n",
    "import sklearn.gaussian_process as gp\n",
    "import warnings\n",
    "import matplotlib.pyplot as plt\n",
    "from sklearn.neural_network import MLPClassifier\n",
    "from sklearn.model_selection import cross_validate\n",
    "from sklearn.datasets import make_classification\n",
    "from numpy.random import RandomState\n",
    "\n",
    "from util.defs import ParamType\n",
    "from acquisition.acquisition_functions import ProbabilityOfImprovement, ExpectedImprovement\n",
    "from acquisition.acquisition_optimizers import RandomAcquisitionOpt, ConstrainedAcquisitionOpt\n",
    "from hp_optimizers.hp_optimizer import GPROptimizer, RandomSearchOptimizer\n",
    "sns.set_style(\"darkgrid\")\n",
    "sns.set_palette(\"muted\")"
   ]
  },
  {
   "cell_type": "markdown",
   "metadata": {},
   "source": [
    "# Set a random seed"
   ]
  },
  {
   "cell_type": "code",
   "execution_count": 2,
   "metadata": {},
   "outputs": [],
   "source": [
    "rand = RandomState(seed=351675)\n",
    "# rand = RandomState(seed=2468)"
   ]
  },
  {
   "cell_type": "markdown",
   "metadata": {},
   "source": [
    "# Generate a dataset"
   ]
  },
  {
   "cell_type": "code",
   "execution_count": 3,
   "metadata": {},
   "outputs": [],
   "source": [
    "X, y = make_classification(n_samples=500, flip_y=0.01, class_sep=0.7)"
   ]
  },
  {
   "cell_type": "markdown",
   "metadata": {},
   "source": [
    "# Helpers"
   ]
  },
  {
   "cell_type": "code",
   "execution_count": 4,
   "metadata": {},
   "outputs": [],
   "source": [
    "def rolling_min(ys, start_idx):\n",
    "    mins = []\n",
    "    for i in range(start_idx + 1, len(ys)):\n",
    "        mins.append(ys[:i].min())\n",
    "    return np.array(mins)\n",
    "\n",
    "\n",
    "def plot_rolling_min(ax, ys, labs):\n",
    "    for i in range(len(ys)):\n",
    "        sns.lineplot(x=range(2, len(ys[i]) + 2), y=ys[i], label=labs[i], ax=ax)"
   ]
  },
  {
   "cell_type": "markdown",
   "metadata": {},
   "source": [
    "# Objective function"
   ]
  },
  {
   "cell_type": "code",
   "execution_count": 5,
   "metadata": {},
   "outputs": [],
   "source": [
    "# x0 = hidden layer size [25, 100] -- disc\n",
    "# x1 = alpha [0.00005, 0.0005] -- cont\n",
    "# x2 = learning_rate_init [0.0001, 0.01] -- cont\n",
    "# x3 = beta_1 [0.75, 0.95] -- cont\n",
    "# x4 = beta_2 [0.8, 0.999] -- cont\n",
    "\n",
    "bounds = np.array([\n",
    "    [50, 200],\n",
    "    [0.00001, 0.001],\n",
    "    [0.0001, 0.01],\n",
    "])\n",
    "p_types = [ParamType.Disc, ParamType.Cont, ParamType.Cont]\n",
    "\n",
    "def objective(x):\n",
    "    # x may be passed as a (1, p) array\n",
    "    if x.ndim > 1:\n",
    "        x = x[0]\n",
    "    \n",
    "    model = MLPClassifier(hidden_layer_sizes=(int(x[0]),),\n",
    "                          alpha=x[1],\n",
    "                          learning_rate_init=x[2],\n",
    "                          random_state=rand)\n",
    "    \n",
    "    # get 5-fold cross validation results\n",
    "    cv_res = cross_validate(model, X, y, cv=5)\n",
    "    # return 1 - acc\n",
    "    return 1 - cv_res[\"test_score\"].mean()"
   ]
  },
  {
   "cell_type": "code",
   "execution_count": 6,
   "metadata": {},
   "outputs": [],
   "source": [
    "def init_gpr():\n",
    "    kernel = gp.kernels.RBF()\n",
    "    # Defining the scale parameter here is cheating a bit (since used the same value when generating the data)\n",
    "    gpr = gp.GaussianProcessRegressor(kernel,\n",
    "                                      alpha=0.00001,\n",
    "                                      n_restarts_optimizer=30, \n",
    "                                      random_state=rand,\n",
    "                                      normalize_y=True)\n",
    "    return gpr\n",
    "\n",
    "\n",
    "def get_acq_opt(idx, gpr, rand):\n",
    "    pi = ProbabilityOfImprovement()\n",
    "    ei = ExpectedImprovement()\n",
    "    if idx == 0:\n",
    "        return RandomAcquisitionOpt(gpr, pi, rand), 'a'\n",
    "    elif idx == 1:\n",
    "        return RandomAcquisitionOpt(gpr, ei, rand), 'b'\n",
    "    elif idx == 2:\n",
    "        return ConstrainedAcquisitionOpt(gpr, pi, rand), 'c'\n",
    "    elif idx == 3:\n",
    "        return ConstrainedAcquisitionOpt(gpr, ei, rand), 'd'"
   ]
  },
  {
   "cell_type": "code",
   "execution_count": 7,
   "metadata": {},
   "outputs": [
    {
     "name": "stdout",
     "output_type": "stream",
     "text": [
      "{'argmin': 4, 'minimizer': array([6.50000000e+01, 9.78530487e-04, 1.00350950e-03]), 'minimum': array([0.244])}\n",
      "{'argmin': 5, 'minimizer': array([7.90000000e+01, 6.73597244e-04, 4.62599925e-03]), 'minimum': array([0.27])}\n",
      "{'argmin': 11, 'minimizer': array([1.91000000e+02, 1.00007386e-05, 1.00000000e-04]), 'minimum': array([0.252])}\n",
      "{'argmin': 24, 'minimizer': array([1.78000000e+02, 9.57842918e-04, 5.21572781e-04]), 'minimum': array([0.262])}\n"
     ]
    }
   ],
   "source": [
    "rolling_mins = []\n",
    "labels = []\n",
    "\n",
    "# Perform BO\n",
    "for i in range(4):\n",
    "    gpr = init_gpr()\n",
    "    opt_acquisition, ch = get_acq_opt(i, gpr, rand)\n",
    "    with warnings.catch_warnings():\n",
    "        warnings.simplefilter(\"ignore\")\n",
    "        gpr_opt = GPROptimizer(gpr, opt_acquisition, objective, bounds, p_types, rand, initial_samples=5, fit=True)\n",
    "        res = gpr_opt.optimize(25)\n",
    "    print(res)\n",
    "    rolling_mins.append(rolling_min(gpr_opt.y, 0))\n",
    "    labels.append(ch)"
   ]
  },
  {
   "cell_type": "code",
   "execution_count": 8,
   "metadata": {},
   "outputs": [],
   "source": [
    "# Perform Rand search\n",
    "rand_opt = RandomSearchOptimizer(objective, bounds, p_types, rand, parallel=True)\n",
    "with warnings.catch_warnings():\n",
    "    warnings.simplefilter(\"ignore\")\n",
    "    rand_opt.optimize(30)\n",
    "rolling_mins.append(rolling_min(rand_opt.y, 0))\n",
    "labels.append('rand')"
   ]
  },
  {
   "cell_type": "code",
   "execution_count": 9,
   "metadata": {},
   "outputs": [
    {
     "data": {
      "image/png": "[encoded data removed]",
      "text/plain": [
       "<Figure size 576x432 with 1 Axes>"
      ]
     },
     "metadata": {},
     "output_type": "display_data"
    }
   ],
   "source": [
    "_, ax = plt.subplots(figsize=(8, 6))\n",
    "# ax.set_title(\"Loss vs. Number of Samples\")\n",
    "ax.set_xlabel(\"Number of samples taken\")\n",
    "ax.set_ylabel(\"Loss\")\n",
    "ax.set_xticks(range(2, 31))\n",
    "plot_rolling_min(ax, rolling_mins, labels)\n",
    "# plt.show()\n",
    "plt.savefig(\"synth_nn.png\")"
   ]
  },
  {
   "cell_type": "code",
   "execution_count": null,
   "metadata": {},
   "outputs": [],
   "source": []
  }
 ],
 "metadata": {
  "kernelspec": {
   "display_name": "Python 3",
   "language": "python",
   "name": "python3"
  },
  "language_info": {
   "codemirror_mode": {
    "name": "ipython",
    "version": 3
   },
   "file_extension": ".py",
   "mimetype": "text/x-python",
   "name": "python",
   "nbconvert_exporter": "python",
   "pygments_lexer": "ipython3",
   "version": "3.7.6"
  }
 },
 "nbformat": 4,
 "nbformat_minor": 4
}
